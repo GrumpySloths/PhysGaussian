{
 "cells": [
  {
   "cell_type": "code",
   "execution_count": 2,
   "metadata": {},
   "outputs": [
    {
     "name": "stdout",
     "output_type": "stream",
     "text": [
      "Warp 1.4.1 initialized:\n",
      "   CUDA Toolkit 11.8, Driver 12.2\n",
      "   Devices:\n",
      "     \"cpu\"      : \"x86_64\"\n",
      "     \"cuda:0\"   : \"NVIDIA GeForce RTX 4090\" (24 GiB, sm_89, mempool enabled)\n",
      "     \"cuda:1\"   : \"NVIDIA GeForce RTX 4090\" (24 GiB, sm_89, mempool enabled)\n",
      "     \"cuda:2\"   : \"NVIDIA GeForce RTX 4090\" (24 GiB, sm_89, mempool enabled)\n",
      "     \"cuda:3\"   : \"NVIDIA GeForce RTX 4090\" (24 GiB, sm_89, mempool enabled)\n",
      "   CUDA peer access:\n",
      "     Not supported\n",
      "   Kernel cache:\n",
      "     /home/jiahao/.cache/warp/1.4.1\n",
      "points: [[0.68533355 0.6196526  0.51668906]\n",
      " [0.9969159  0.20321104 0.64668804]\n",
      " [0.16280068 0.55827886 0.9407387 ]\n",
      " ...\n",
      " [0.8335893  0.00702002 0.90483177]\n",
      " [0.0020878  0.7493751  0.885826  ]\n",
      " [0.834012   0.8195862  0.9396033 ]]\n",
      "points shape (1024,)\n",
      "Module __main__ fdb5417 load on device 'cuda:0' took 1.67 ms  (cached)\n",
      "lengths.shape: (1024,)\n",
      "[1.0585929 1.2055461 1.1059695 ... 1.2303011 1.1602824 1.5000507]\n"
     ]
    }
   ],
   "source": [
    "import warp as wp\n",
    "import numpy as np\n",
    "\n",
    "num_points = 1024\n",
    "\n",
    "@wp.kernel\n",
    "def length(points: wp.array(dtype=wp.vec3),\n",
    "           lengths: wp.array(dtype=float)):\n",
    "\n",
    "    # thread index\n",
    "    tid = wp.tid()\n",
    "\n",
    "    # compute distance of each point from origin\n",
    "    lengths[tid] = wp.length(points[tid])\n",
    "\n",
    "\n",
    "# allocate an array of 3d points\n",
    "points = wp.array(np.random.rand(num_points, 3), dtype=wp.vec3)\n",
    "lengths = wp.zeros(num_points, dtype=float)\n",
    "print(\"points:\", points)\n",
    "print(\"points shape\", points.shape)\n",
    "# launch kernel\n",
    "wp.launch(kernel=length,\n",
    "          dim=len(points),\n",
    "          inputs=[points, lengths])\n",
    "print(\"lengths.shape:\",lengths.shape)\n",
    "print(lengths)"
   ]
  },
  {
   "cell_type": "code",
   "execution_count": null,
   "metadata": {},
   "outputs": [],
   "source": []
  },
  {
   "cell_type": "code",
   "execution_count": 3,
   "metadata": {},
   "outputs": [
    {
     "data": {
      "text/plain": [
       "5.0"
      ]
     },
     "execution_count": 3,
     "metadata": {},
     "output_type": "execute_result"
    }
   ],
   "source": [
    "a=wp.vec2(3,4)\n",
    "wp.length(a)"
   ]
  },
  {
   "cell_type": "code",
   "execution_count": null,
   "metadata": {},
   "outputs": [],
   "source": []
  },
  {
   "cell_type": "code",
   "execution_count": null,
   "metadata": {},
   "outputs": [],
   "source": []
  }
 ],
 "metadata": {
  "kernelspec": {
   "display_name": "base",
   "language": "python",
   "name": "python3"
  },
  "language_info": {
   "codemirror_mode": {
    "name": "ipython",
    "version": 3
   },
   "file_extension": ".py",
   "mimetype": "text/x-python",
   "name": "python",
   "nbconvert_exporter": "python",
   "pygments_lexer": "ipython3",
   "version": "3.11.7"
  }
 },
 "nbformat": 4,
 "nbformat_minor": 2
}
