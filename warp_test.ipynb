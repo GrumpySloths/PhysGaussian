{
 "cells": [
  {
   "cell_type": "code",
   "execution_count": 6,
   "metadata": {},
   "outputs": [
    {
     "name": "stdout",
     "output_type": "stream",
     "text": [
      "points: [[0.21311295 0.21613573 0.43213648]\n",
      " [0.26252964 0.41892794 0.03120678]\n",
      " [0.10489726 0.5313923  0.19744273]\n",
      " ...\n",
      " [0.6289035  0.7898621  0.06346463]\n",
      " [0.8062457  0.16132316 0.25107595]\n",
      " [0.65138865 0.45150954 0.9629215 ]]\n",
      "points shape (1024,)\n",
      "lengths.shape: (1024,)\n",
      "[0.52808493 0.49537492 0.5765109  ... 1.011647   0.8597072  1.2471511 ]\n"
     ]
    }
   ],
   "source": [
    "import warp as wp\n",
    "import numpy as np\n",
    "\n",
    "num_points = 1024\n",
    "\n",
    "@wp.kernel\n",
    "def length(points: wp.array(dtype=wp.vec3),\n",
    "           lengths: wp.array(dtype=float)):\n",
    "\n",
    "    # thread index\n",
    "    tid = wp.tid()\n",
    "\n",
    "    # compute distance of each point from origin\n",
    "    lengths[tid] = wp.length(points[tid])\n",
    "\n",
    "\n",
    "# allocate an array of 3d points\n",
    "points = wp.array(np.random.rand(num_points, 3), dtype=wp.vec3)\n",
    "lengths = wp.zeros(num_points, dtype=float)\n",
    "print(\"points:\", points)\n",
    "print(\"points shape\", points.shape)\n",
    "# launch kernel\n",
    "wp.launch(kernel=length,\n",
    "          dim=len(points),\n",
    "          inputs=[points, lengths])\n",
    "print(\"lengths.shape:\",lengths.shape)\n",
    "print(lengths)"
   ]
  },
  {
   "cell_type": "code",
   "execution_count": null,
   "metadata": {},
   "outputs": [],
   "source": []
  }
 ],
 "metadata": {
  "kernelspec": {
   "display_name": "base",
   "language": "python",
   "name": "python3"
  },
  "language_info": {
   "codemirror_mode": {
    "name": "ipython",
    "version": 3
   },
   "file_extension": ".py",
   "mimetype": "text/x-python",
   "name": "python",
   "nbconvert_exporter": "python",
   "pygments_lexer": "ipython3",
   "version": "3.12.7"
  }
 },
 "nbformat": 4,
 "nbformat_minor": 2
}
